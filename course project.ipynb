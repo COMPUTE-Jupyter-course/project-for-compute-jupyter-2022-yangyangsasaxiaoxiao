{
 "cells": [
  {
   "cell_type": "markdown",
   "id": "5ee3b89b",
   "metadata": {},
   "source": [
    "#  Fitting High-Resolution XPS Spectrum by DS Convolute Gaussian Function\n",
    "\n",
    "### ·Abstrct\n",
    "### ·How to run the notebook\n",
    "### ·Methodology\n",
    "####  ·Gaussian and DS functions\n",
    "####  ·Example\n",
    "### ·Experiment data fitting\n"
   ]
  },
  {
   "cell_type": "markdown",
   "id": "d82cf989",
   "metadata": {},
   "source": [
    "## Abstact \n",
    "The principle and function of X-ray photoelectron spectroscopy (XPS) is to radiate the sample with X-rays, causing the inner electrons or valence electrons of atoms or molecules to be excited out. Electrons excited by photons are called photoelectrons. The energy of photoelectrons can be measured. With the kinetic energy of photoelectrons,(Eb=hv light energy -Ek kinetic energy -W work function) as the horizontal coordinate and the relative intensity (pulse /s) as the ordinate, the photoelectron spectra can be made. To obtain information about the sample. However, the total spectrum can only be obtain from experiment datas. Gaussian distribution and Doniach–Sunić(DS) distribution can effective describ the XPS spectrum. In this project, we will use Gaussian and DS function to describ the Mg(10-10) surface XPS spectrum by python."
   ]
  },
  {
   "cell_type": "markdown",
   "id": "1eea399b",
   "metadata": {},
   "source": [
    "## How to run the notebook\n",
    "1. Install the Annoconda.\n",
    "2. Run the Jupyter.\n",
    "3. Install and activate the LUcompute environment described by the file environment.yml by running the following in a terminal.(in the environment.yml)"
   ]
  },
  {
   "cell_type": "markdown",
   "id": "9b6b6534",
   "metadata": {},
   "source": [
    "## Methodology\n",
    "\n",
    "1. Gaussian function \n",
    "\n",
    "$$f(x, x_0,\\sigma) = \\frac{1}{\\sigma\\sqrt{2\\pi}}\\exp{\\frac{-(x-x_0)^2}{2\\sigma^2}} $$\n",
    "\n",
    "2. DS function\n",
    "\n",
    "$$f(x;\\alpha, \\omega, \\gamma) = \\frac{amp(1-\\alpha)cos[\\frac{\\pi\\alpha}{2}+(1-\\alpha)arctan(\\omega/\\gamma)]}{(\\omega^2+\\gamma^2)^(1-\\alpha)/2} $$"
   ]
  },
  {
   "cell_type": "code",
   "execution_count": 2,
   "id": "b83de48f",
   "metadata": {},
   "outputs": [],
   "source": [
    "from IPython.display import Markdown"
   ]
  },
  {
   "cell_type": "markdown",
   "id": "a4e42d3d",
   "metadata": {},
   "source": [
    "the mark in the functions:\n",
    "\n",
    "\n",
    "\n",
    "|symble    |   meaning|\n",
    "|--------  | -------- |\n",
    "|$$x_0$$   |   location of the peak |\n",
    "|$$\\sigma$$   |  standard deviation |\n",
    "|$$\\omega$$   |  lifetime broadening |\n",
    "|$$\\alpha$$   |  sontrol skewing |\n",
    "|$$\\gamma$$   |  HWHM |"
   ]
  },
  {
   "cell_type": "markdown",
   "id": "60cd8c61",
   "metadata": {},
   "source": [
    "### Example, bulid a Gaussian data and fit it by Gaussian function:"
   ]
  },
  {
   "cell_type": "code",
   "execution_count": 20,
   "id": "a34553d5",
   "metadata": {},
   "outputs": [],
   "source": [
    "import matplotlib\n",
    "import matplotlib.pyplot as plt\n",
    "import numpy as np\n",
    "import scipy as scipy\n",
    "from scipy import optimize\n",
    "from matplotlib.ticker import AutoMinorLocator\n",
    "from matplotlib import gridspec\n",
    "import matplotlib.ticker as ticker\n",
    "\n",
    "import pandas\n",
    "get_ipython().run_line_magic('matplotlib', 'inline')"
   ]
  },
  {
   "cell_type": "code",
   "execution_count": 21,
   "id": "013410f8",
   "metadata": {},
   "outputs": [
    {
     "data": {
      "image/png": "[encoded data removed]",
      "text/plain": [
       "<Figure size 288x216 with 1 Axes>"
      ]
     },
     "metadata": {
      "needs_background": "light"
     },
     "output_type": "display_data"
    }
   ],
   "source": [
    "x_array = np.linspace(1,100,50)\n",
    "\n",
    "q1 = 0\n",
    "gamma1 = 20 \n",
    "amp1 = 100\n",
    "sigma1 = 10\n",
    "sigma2 = 0.1\n",
    "cen1 = 50\n",
    "\n",
    "amp2 = 1\n",
    "br=0.5\n",
    "q2 = 0 \n",
    "gamma2= 20\n",
    "cen2 = -50\n",
    "\n",
    "y_array_gauss = amp1*(1/(sigma1*(np.sqrt(2*np.pi))))*(np.exp((-1.0/2.0)*(((x_array-cen1)/sigma1)**2)))\n",
    "\n",
    "\n",
    "y_noise_gauss = (np.exp((np.random.ranf(50))))/5\n",
    "y_array_gauss += y_noise_gauss\n",
    "fig = plt.figure(figsize=(4,3))\n",
    "gs = gridspec.GridSpec(1,1)\n",
    "ax1 = fig.add_subplot(gs[0])\n",
    "\n",
    "ax1.plot(x_array, y_array_gauss, \"ro\")\n",
    "\n",
    "ax1.set_xlim(-5,105)\n",
    "ax1.set_ylim(-0.5,5)\n",
    "\n",
    "ax1.set_xlabel(\"x_array\",family=\"serif\",  fontsize=12)\n",
    "ax1.set_ylabel(\"y_array\",family=\"serif\",  fontsize=12)\n",
    "\n",
    "ax1.xaxis.set_major_locator(ticker.MultipleLocator(20))\n",
    "#ax1.yaxis.set_major_locator(ticker.MultipleLocator(50))\n",
    "\n",
    "ax1.xaxis.set_minor_locator(AutoMinorLocator(2))\n",
    "ax1.yaxis.set_minor_locator(AutoMinorLocator(2))\n",
    "\n",
    "ax1.tick_params(axis='both',which='major', direction=\"out\", top=\"on\", right=\"on\", bottom=\"on\", length=8, labelsize=8)\n",
    "ax1.tick_params(axis='both',which='minor', direction=\"out\", top=\"on\", right=\"on\", bottom=\"on\", length=5, labelsize=8)\n",
    "\n",
    "fig.tight_layout()\n",
    "fig.savefig(\"rawGaussian.png\", format=\"png\",dpi=1000)\n",
    "\n",
    "\n"
   ]
  },
  {
   "cell_type": "markdown",
   "id": "7a118b2a",
   "metadata": {},
   "source": [
    "### Fitting process by Gaussian function:"
   ]
  },
  {
   "cell_type": "code",
   "execution_count": 53,
   "id": "fda97cb3",
   "metadata": {},
   "outputs": [
    {
     "name": "stderr",
     "output_type": "stream",
     "text": [
      "No handles with labels found to put in legend.\n"
     ]
    },
    {
     "name": "stdout",
     "output_type": "stream",
     "text": [
      "amplitude = 118.36 (+/-) 2.65\n",
      "center = 50.15 (+/-) 0.30\n",
      "sigma = 11.54 (+/-) 0.30\n"
     ]
    },
    {
     "data": {
      "image/png": "[encoded data removed]",
      "text/plain": [
       "<Figure size 288x216 with 1 Axes>"
      ]
     },
     "metadata": {
      "needs_background": "light"
     },
     "output_type": "display_data"
    }
   ],
   "source": [
    "# define\n",
    "def _1gaussian(x, amp1,cen1,sigma1):\n",
    "    return amp1*(1/(sigma1*(np.sqrt(2*np.pi))))*(np.exp((-1.0/2.0)*(((x_array-cen1)/sigma1)**2)))\n",
    "\n",
    "# fitting\n",
    "popt_gauss, pcov_gauss = scipy.optimize.curve_fit(_1gaussian, x_array, y_array_gauss, p0=[amp1, cen1, sigma1], bounds= ((-np.inf, 0,0),(np.inf,1000,1000)))\n",
    "\n",
    "perr_gauss = np.sqrt(np.diag(pcov_gauss))\n",
    "\n",
    "# result\n",
    "print (\"amplitude = %0.2f (+/-) %0.2f\" % (popt_gauss[0], perr_gauss[0]))\n",
    "print (\"center = %0.2f (+/-) %0.2f\" % (popt_gauss[1], perr_gauss[1]))\n",
    "print (\"sigma = %0.2f (+/-) %0.2f\" % (popt_gauss[2], perr_gauss[2]))\n",
    "\n",
    "#plot\n",
    "fig = plt.figure(figsize=(4,3))\n",
    "gs = gridspec.GridSpec(1,1)\n",
    "ax1 = fig.add_subplot(gs[0])\n",
    "\n",
    "ax1.plot(x_array, y_array_gauss, \"ro\")\n",
    "ax1.plot(x_array, _1gaussian(x_array, *popt_gauss), 'k--')#,\\\n",
    "         \n",
    "\n",
    "ax1.set_xlim(-5,105)\n",
    "ax1.set_ylim(-0.5,5)\n",
    "\n",
    "ax1.set_xlabel(\"x_array\",family=\"serif\",  fontsize=12)\n",
    "ax1.set_ylabel(\"y_array\",family=\"serif\",  fontsize=12)\n",
    "\n",
    "ax1.legend(loc=\"best\")\n",
    "\n",
    "ax1.xaxis.set_major_locator(ticker.MultipleLocator(20))\n",
    "#ax1.yaxis.set_major_locator(ticker.MultipleLocator(50))\n",
    "\n",
    "ax1.xaxis.set_minor_locator(AutoMinorLocator(2))\n",
    "ax1.yaxis.set_minor_locator(AutoMinorLocator(2))\n",
    "\n",
    "ax1.tick_params(axis='both',which='major', direction=\"out\", top=\"on\", right=\"on\", bottom=\"on\", length=8, labelsize=8)\n",
    "ax1.tick_params(axis='both',which='minor', direction=\"out\", top=\"on\", right=\"on\", bottom=\"on\", length=5, labelsize=8)\n",
    "\n",
    "fig.tight_layout()\n",
    "fig.savefig(\"fitGaussian.png\", format=\"png\",dpi=1000)"
   ]
  },
  {
   "cell_type": "markdown",
   "id": "e2cad183",
   "metadata": {},
   "source": [
    "#### The fitting result looks very good, we will bulid DS convolute Gaussian function that suit for the experiment data next step."
   ]
  },
  {
   "cell_type": "markdown",
   "id": "5b46af23",
   "metadata": {},
   "source": [
    "### Experiment data fitting (clean Mg(10-10) surface)."
   ]
  },
  {
   "cell_type": "markdown",
   "id": "f82233ce",
   "metadata": {},
   "source": [
    "import experiment datas and plot it:"
   ]
  },
  {
   "cell_type": "code",
   "execution_count": 12,
   "id": "e5aa3adb",
   "metadata": {},
   "outputs": [
    {
     "name": "stdout",
     "output_type": "stream",
     "text": [
      "-47.35\n",
      "-54.35\n",
      "-50.85\n"
     ]
    },
    {
     "data": {
      "image/png": "[encoded data removed]",
      "text/plain": [
       "<Figure size 288x216 with 1 Axes>"
      ]
     },
     "metadata": {
      "needs_background": "light"
     },
     "output_type": "display_data"
    }
   ],
   "source": [
    "file1  = 'C:/Users/xingz/Desktop/fitting data/5.txt'\n",
    "file2  = 'C:/Users/xingz/Desktop/fitting data/6.txt'\n",
    "data1 = np.loadtxt(file1, dtype = str,delimiter='\\t')\n",
    "data2 = np.loadtxt(file2, dtype = str,delimiter='\\t')\n",
    "\n",
    "xarray1 = list()\n",
    "for n in data1:\n",
    "    xarray1.append(float(n))\n",
    "    \n",
    "yarray1 = list()\n",
    "for n in data2:\n",
    "    yarray1.append(float(n))\n",
    "#print(xarrey1)\n",
    "\n",
    "fig = plt.figure(figsize=(4,3))\n",
    "gs = gridspec.GridSpec(1,1)\n",
    "ax1 = fig.add_subplot(gs[0])\n",
    "ax1.plot(xarray1, yarray1, \"ro\")\n",
    "ax1.set_xlim(-50.5,-49)\n",
    "# print (yarray1)\n",
    "e = np.max(xarray1)\n",
    "f = np.min(xarray1)\n",
    "print (e)\n",
    "print (f)\n",
    "\n",
    "mid = f +(e-f)/2\n",
    "print (mid)\n"
   ]
  },
  {
   "cell_type": "code",
   "execution_count": 23,
   "id": "646b1c07",
   "metadata": {},
   "outputs": [],
   "source": [
    "def _1ds(xarray1, mid, gamma,br,so, q1, amp1, cen1, sigma1):\n",
    "    return np.exp(-2.773*(xarray1-mid)**2/(sigma1**2))*amp1*(np.cos(np.pi*q1/2+(1-q1)*np.arctan((xarray1-cen1)/(gamma/2)))*((xarray1-cen1)**2+(gamma/2)**2)**((q1-1)/2)) + \\\n",
    "           np.exp(-2.773*(xarray1-mid-so)**2/(sigma1**2))*(amp1*br*np.cos(np.pi*q1/2+(1-q1)*np.arctan((xarray1-cen1-so)/(gamma/2)))*((xarray1-cen1-so)**2+(gamma/2)**2)**((q1-1)/2))"
   ]
  },
  {
   "cell_type": "code",
   "execution_count": 16,
   "id": "34eb16f0",
   "metadata": {},
   "outputs": [],
   "source": [
    "# two peaks with br\n",
    "\n",
    "\n",
    "q1 = 0.04\n",
    "q2 = 0.04\n",
    "amp1 = 3759\n",
    "amp2 = 4155\n",
    "cen1 = -49.825\n",
    "cen2 = -49.945\n",
    "sigma1 = 0.10\n",
    "sigma2 = 0.2\n",
    "gamma = 0.03\n",
    "so = 0.2\n",
    "br = 2\n",
    "q3 = 0.042\n",
    "amp3 = 0\n",
    "cen3 = -49.739\n",
    "sigma3 = 0.19866\n",
    "mid1 = -49.82\n",
    "\n",
    "\n",
    "\n",
    "\n",
    "def _2ds(x, mid, gamma,br,so,  q1, amp1, cen1, sigma1,q2, amp2,cen2, sigma2):\n",
    "    return   np.exp(-2.773*(x-mid)**2/(sigma1**2))*amp1*(np.cos(np.pi*q1/2+(1-q1)*np.arctan((x-cen1)/(gamma/2)))*((x-cen1)**2+(gamma/2)**2)**((q1-1)/2)) +\\\n",
    "             np.exp(-2.773*(x-mid-so)**2/(sigma1**2))*amp1*br*(np.cos(np.pi*q1/2+(1-q1)*np.arctan((x-cen1-so)/(gamma/2)))*((x-cen1-so)**2+(gamma/2)**2)**((q1-1)/2))+\\\n",
    "             np.exp(-2.773*(x-mid)**2/(sigma2**2))*amp2*(np.cos(np.pi*q2/2+(1-q2)*np.arctan((x-cen2)/(gamma/2)))*((x-cen2)**2+(gamma/2)**2)**((q2-1)/2)) + \\\n",
    "             np.exp(-2.773*(x-mid-so)**2/(sigma2**2))*amp2*br*(np.cos(np.pi*q2/2+(1-q2)*np.arctan((x-cen2-so)/(gamma/2)))*((x-cen2-so)**2+(gamma/2)**2)**((q2-1)/2))"
   ]
  },
  {
   "cell_type": "code",
   "execution_count": 17,
   "id": "0a95dc2b",
   "metadata": {},
   "outputs": [
    {
     "name": "stdout",
     "output_type": "stream",
     "text": [
      "[-5.00077615e+01  1.16738517e-01  1.95000000e+00  2.45865678e-01\n",
      "  1.29178351e-01  6.69999999e+04 -4.98454330e+01  3.36521343e-01\n",
      "  2.87770728e-01  1.02156425e+04 -4.99100000e+01  5.50000000e+00]\n",
      "[-5.00077615e+01  1.16738517e-01  1.95000000e+00  2.45865678e-01\n",
      "  1.29178351e-01  6.69999999e+04 -4.98454330e+01  3.36521343e-01]\n",
      "[ 2.87770728e-01  1.02156425e+04 -4.99100000e+01  5.50000000e+00]\n",
      "[-50.00776146   0.11673852   1.95         0.24586568]\n",
      "[-5.00077615e+01  1.16738517e-01  1.95000000e+00  2.45865678e-01\n",
      "  2.87770728e-01  1.02156425e+04 -4.99100000e+01  5.50000000e+00]\n"
     ]
    }
   ],
   "source": [
    "popt_2ds, pcov_2ds = scipy.optimize.curve_fit(_2ds, xarray1, yarray1,\n",
    "                                              p0=[mid1, gamma,br,so,\n",
    "                                                  q1, amp1, cen1, sigma1,\n",
    "                                                  q2, amp2, cen2, sigma2] ,\n",
    "                                              maxfev= 250000,\n",
    "                                              bounds=(( -50.9,0,1.95,0,\n",
    "                                                       0.03,0,-49.86,0,\n",
    "                                                       0.0,0,-49.96,0), \n",
    "                                                      (-48.8, 0.6,2.05,0.3,\n",
    "                                                       0.8,67000,-49.81,5.5,\n",
    "                                                       0.8,70000,-49.91,5.5))\n",
    "                                              )\n",
    "                                               \n",
    "\n",
    "perr_2ds = np.sqrt(np.diag(pcov_2ds))\n",
    "\n",
    "pars_1 = popt_2ds[0:8]\n",
    "\n",
    "pars_21 = popt_2ds[0:4]\n",
    "pars_22 = popt_2ds[8:12]\n",
    "pars_2 = np.append(pars_21,pars_22)\n",
    "\n",
    "#pars_31 = popt_2ds[0:3]\n",
    "#pars_32 = popt_2ds[11:15]\n",
    "#pars_3 = np.append(pars_31,pars_32)\n",
    "\n",
    "ds_peak_1 = _1ds(xarray1, *pars_1)\n",
    "ds_peak_2 = _1ds(xarray1, *pars_2)\n",
    "#ds_peak_3 = _1ds(xarray1, *pars_3)\n",
    "peak_total = _2ds(xarray1, *popt_2ds)\n",
    "\n",
    "print (popt_2ds)\n",
    "print (pars_1)\n",
    "print (pars_22)\n",
    "print (pars_21)\n",
    "print (pars_2)\n",
    "\n"
   ]
  },
  {
   "cell_type": "markdown",
   "id": "5efd262c",
   "metadata": {},
   "source": [
    "Plot result"
   ]
  },
  {
   "cell_type": "code",
   "execution_count": 52,
   "id": "1b60f545",
   "metadata": {},
   "outputs": [
    {
     "name": "stderr",
     "output_type": "stream",
     "text": [
      "No handles with labels found to put in legend.\n",
      "No handles with labels found to put in legend.\n"
     ]
    },
    {
     "data": {
      "image/png": "[encoded data removed]",
      "text/plain": [
       "<Figure size 1080x640.8 with 2 Axes>"
      ]
     },
     "metadata": {
      "needs_background": "light"
     },
     "output_type": "display_data"
    }
   ],
   "source": [
    "fig = plt.figure(figsize=(15,8.9))\n",
    "gs = gridspec.GridSpec(1,2)\n",
    "ax1 = fig.add_subplot(1,2,1) \n",
    "ax2 = fig.add_subplot(1,2,2)\n",
    "\n",
    "ax1.plot(xarray1, yarray1, \"ro\")\n",
    "ax1.plot(xarray1, _2ds(xarray1, *popt_2ds), 'k--')\n",
    "\n",
    "ax1.set_xlim(-50.5,-49.0)\n",
    "#ax1.set_ylim(-0.5,8)\n",
    "ax1.set_xlabel(\"Binging energy (eV)\",family=\"serif\",  fontsize=12)\n",
    "ax1.set_ylabel(\"MCounts[a.u.]\",family=\"serif\",  fontsize=12)\n",
    "\n",
    "ax1.legend(loc=\"best\")\n",
    "\n",
    "ax1.xaxis.set_major_locator(ticker.MultipleLocator(20))\n",
    "#ax1.yaxis.set_major_locator(ticker.MultipleLocator(50))\n",
    "\n",
    "ax1.xaxis.set_minor_locator(AutoMinorLocator(2))\n",
    "ax1.yaxis.set_minor_locator(AutoMinorLocator(2))\n",
    "\n",
    "ax1.tick_params(axis='both',which='major', direction=\"out\", top=\"on\", right=\"on\", bottom=\"on\", length=8, labelsize=8)\n",
    "ax1.tick_params(axis='both',which='minor', direction=\"out\", top=\"on\", right=\"on\", bottom=\"on\", length=5, labelsize=8)\n",
    "\n",
    "fig.tight_layout()\n",
    "fig.savefig(\"fit2Gaussian.png\", format=\"png\",dpi=300)\n",
    "\n",
    "\n",
    "ax2.plot(xarray1, yarray1, \"ro\")\n",
    "ax2.plot(xarray1, _2ds(xarray1, *popt_2ds), 'k--')#,\\\n",
    "        \n",
    "# peak 1   \n",
    "ax2.plot(xarray1, ds_peak_1, \"g\")\n",
    "ax2.fill_between(xarray1, ds_peak_1, facecolor=\"green\", alpha=0.5)\n",
    "  \n",
    "# peak 2\n",
    "ax2.plot(xarray1, ds_peak_2, \"y\")\n",
    "ax2.fill_between(xarray1,  ds_peak_2, facecolor=\"yellow\", alpha=0.5) \n",
    "\n",
    "# peak 3\n",
    "#ax1.plot(xarray1, ds_peak_3, \"y\")\n",
    "#ax1.fill_between(xarray1,ds_peak_3, facecolor=\"yellow\", alpha=0.5) \n",
    "\n",
    "ax2.set_xlim(-50.5,-49.0)\n",
    "#ax1.set_ylim(-0.5,8)\n",
    "\n",
    "ax2.set_xlabel(\"Binging energy (eV)\",family=\"serif\",  fontsize=12)\n",
    "ax2.set_ylabel(\"MCounts[a.u.]\",family=\"serif\",  fontsize=12)\n",
    "\n",
    "ax2.legend(loc=\"best\")\n",
    "\n",
    "ax2.xaxis.set_major_locator(ticker.MultipleLocator(20))\n",
    "#ax1.yaxis.set_major_locator(ticker.MultipleLocator(50))\n",
    "\n",
    "ax2.xaxis.set_minor_locator(AutoMinorLocator(2))\n",
    "ax2.yaxis.set_minor_locator(AutoMinorLocator(2))\n",
    "\n",
    "ax2.tick_params(axis='both',which='major', direction=\"out\", top=\"on\", right=\"on\", bottom=\"on\", length=8, labelsize=8)\n",
    "ax2.tick_params(axis='both',which='minor', direction=\"out\", top=\"on\", right=\"on\", bottom=\"on\", length=5, labelsize=8)\n",
    "\n",
    "fig.tight_layout()\n",
    "fig.savefig(\"fit2Gaussian.png\", format=\"png\",dpi=300)\n",
    "\n",
    "\n",
    "\n",
    "\n",
    "\n"
   ]
  },
  {
   "cell_type": "markdown",
   "id": "40bb021f",
   "metadata": {},
   "source": [
    "More distrbution detials can extract after spectum fitting. Analysis these detiald can get more information from the Mg(10-10) syrface. One distrbution is from bulk atoms, and another distrbution is from surface atoms."
   ]
  },
  {
   "cell_type": "code",
   "execution_count": null,
   "id": "ce01306a",
   "metadata": {},
   "outputs": [],
   "source": []
  }
 ],
 "metadata": {
  "kernelspec": {
   "display_name": "Python 3 (ipykernel)",
   "language": "python",
   "name": "python3"
  },
  "language_info": {
   "codemirror_mode": {
    "name": "ipython",
    "version": 3
   },
   "file_extension": ".py",
   "mimetype": "text/x-python",
   "name": "python",
   "nbconvert_exporter": "python",
   "pygments_lexer": "ipython3",
   "version": "3.9.7"
  }
 },
 "nbformat": 4,
 "nbformat_minor": 5
}
